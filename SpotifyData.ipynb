{
 "cells": [
  {
   "cell_type": "code",
   "execution_count": 25,
   "metadata": {},
   "outputs": [],
   "source": [
    "import matplotlib.pyplot as plt\n",
    "import numpy as np\n",
    "import pandas as pd\n",
    "import seaborn as sns\n",
    "import streamlit as st\n",
    "\n",
    "from bokeh.plotting import figure, output_file\n",
    "from bokeh.models import ColumnDataSource\n",
    "from bokeh.palettes import Spectral\n",
    "from bokeh.palettes import Spectral6, Magma, Inferno\n",
    "from bokeh.themes import built_in_themes\n",
    "from bokeh.io import curdoc\n",
    "\n",
    "from datetime import date, timedelta\n",
    "from IPython import get_ipython\n",
    "from PIL import Image\n",
    "from streamlit import caching"
   ]
  },
  {
   "cell_type": "markdown",
   "metadata": {},
   "source": [
    "### Setting Title of the Web"
   ]
  },
  {
   "cell_type": "code",
   "execution_count": 11,
   "metadata": {},
   "outputs": [
    {
     "data": {
      "text/plain": [
       "<streamlit.delta_generator.DeltaGenerator at 0x7f7fbe1dd2b0>"
      ]
     },
     "execution_count": 11,
     "metadata": {},
     "output_type": "execute_result"
    }
   ],
   "source": [
    "st.title('Spotify Data')"
   ]
  },
  {
   "cell_type": "markdown",
   "metadata": {},
   "source": [
    "### Side Bar Information"
   ]
  },
  {
   "cell_type": "code",
   "execution_count": 18,
   "metadata": {},
   "outputs": [],
   "source": [
    "image = Image.open('logo/eskwelabs.png')\n",
    "st.sidebar.image(image, caption='', use_column_width=True)\n",
    "st.sidebar.markdown(\"<h1 style='text-align: center;margin-bottom:50px'>DS Cohort V</h1>\", unsafe_allow_html=True)\n",
    "\n",
    "\n",
    "add_selectbox = st.sidebar.radio(\n",
    "    \"\",\n",
    "    (\"Introduction and Problem Statement\", \"List of Tools\", \"Data Sourcing\", \"Data Set\", \"Data Cleaning\", \n",
    "     \"Exploratory Data Analysis\", \"Possible Business Strategies\", \"Recommender Engine\", \n",
    "     \"Possible Business Strategies\", \"Contributors\")\n",
    ")"
   ]
  },
  {
   "cell_type": "code",
   "execution_count": 23,
   "metadata": {},
   "outputs": [],
   "source": [
    "if add_selectbox == 'Introduction and Problem Statement':\n",
    "    st.write('')\n",
    "    st.subheader('Introduction')\n",
    "    st.write('-----------------------------------------------------------------------') \n",
    "    st.write('<b>BUSINESS OBJECTIVE:</b>', unsafe_allow_html=True)\n",
    "    st.write('Provide unique and actionable insights and strategies on how to boost streams of the artists they handle in the market')\n",
    "    \n",
    "    st.write('<b>MARKET:</b>', unsafe_allow_html=True)\n",
    "    st.markdown(\"<ul>\"\\\n",
    "                \"<li>What are the current trends in the music stream market?</li>\"\\\n",
    "                \"<li>What qualities are common among top-streamed music?</li>\"\\\n",
    "                \"<li>How has the client artist/target genre performed in the past years?</li>\"\\\n",
    "                \"</ul>\", unsafe_allow_html=True)\n",
    "                \n",
    "    st.write('<b>CLIENT:</b>', unsafe_allow_html=True)\n",
    "    st.markdown(\"<ul>\"\\\n",
    "                \"<li><i>Artist</i>: Based on listener data, which artist should client collaborate with in their next release?</li>\"\\\n",
    "                \"<li><i>Production:</i> Based on the listener data, which genre should client focus on their next release? </li>\"\\\n",
    "                \"<li><i>Promotions:</i> Based on the listener data, which artists should we market together in featured playlists/events? </li>\"\\\n",
    "                \"</ul>\", unsafe_allow_html=True)\n"
   ]
  },
  {
   "cell_type": "code",
   "execution_count": null,
   "metadata": {},
   "outputs": [],
   "source": [
    "elif add_selectbox == 'Outline':\n",
    "    st.subheader('Outline')\n",
    "    st.write('-----------------------------')"
   ]
  },
  {
   "cell_type": "code",
   "execution_count": null,
   "metadata": {},
   "outputs": [],
   "source": [
    "elif add_selectbox == 'List of Tools':\n",
    "    st.subheader('List of Tools')\n",
    "    st.write('-----------------------------')\n",
    "    st.write('-----------------------------------------------------------------------') \n",
    "    image = Image.open('logo/spotify.png').convert('RGB')\n",
    "    st.image(image, caption='', width=300, height=150)\n",
    "    image = Image.open('logo/jupyter.png').convert('RGB')\n",
    "    st.image(image, caption='', width=300, height=150)\n",
    "    image = Image.open('logo/pandas.png').convert('RGB')\n",
    "    st.image(image, caption='', width=300, height=150)\n",
    "    image = Image.open('logo/heroku.jpg').convert('RGB')\n",
    "    st.image(image, caption='', width=150, height=50)\n",
    "    image = Image.open('logo/streamlit.png').convert('RGB')\n",
    "    st.image(image, caption='', width=300, height=150)\n",
    "    image = Image.open('logo/bokeh.png').convert('RGB')\n",
    "    st.image(image, caption='', width=300, height=150)\n",
    "    image = Image.open('logo/github.png').convert('RGB')\n",
    "    st.image(image, caption='', width=300, height=150)\n",
    "    image = Image.open('logo/regex.jpeg').convert('RGB')\n",
    "    st.image(image, caption='', width=300, height=150)\n",
    "    image = Image.open('logo/scipy.png').convert('RGB')\n",
    "    st.image(image, caption='', width=300, height=150)\n",
    "    image = Image.open('logo/seaborn.png').convert('RGB')\n",
    "    st.image(image, caption='', width=300, height=150)\n",
    "    image = Image.open('logo/matplotlib.png').convert('RGB')\n",
    "    st.image(image, caption='', width=300, height=150)\n",
    "    image = Image.open('logo/numpy.png').convert('RGB')\n",
    "    st.image(image, caption='', width=300, height=150)"
   ]
  },
  {
   "cell_type": "code",
   "execution_count": null,
   "metadata": {},
   "outputs": [],
   "source": [
    "elif add_selectbox == 'Data Sourcing':\n",
    "    st.subheader('Data Sourcing')\n",
    "    st.write('-----------------------------')"
   ]
  },
  {
   "cell_type": "code",
   "execution_count": null,
   "metadata": {},
   "outputs": [],
   "source": [
    "elif add_selectbox == 'Data Set':\n",
    "    st.subheader('Data Set')\n",
    "    st.write('-----------------------------')\n",
    "    \n",
    "    st.write('<b>Daily Charts:</b>', unsafe_allow_html=True)\n",
    "    st.markdown('<b>Sample Data Set:</b>', unsafe_allow_html=True)\n",
    "    dataset_sample = {\n",
    "                      'date': ['2018-01-01', '2018-01-01', '2018-01-01', '2018-01-01', '2018-01-01'], \n",
    "                      'position': ['1', '2', '3', '4', '5'],\n",
    "                      'track_id': ['0ofbQMrRDsUaVKq2mGLEAb', '0tgVpDi06FyKpA1z0VMD4v', '3hBBKuWJfxlIlnd9QFoC8k', \n",
    "                                   '1mXVgsBdtIVeCLJnSnmtdV', '2ekn2ttSfGqwhhate0LSR0'],\n",
    "                      'track_name': ['Havana', 'Perfect', 'What Lovers Do (feat. SZA)', 'Too Good At Goodbyes', 'New Rules'],\n",
    "                      'artist': ['Camila Cabello', 'Ed Sheeran', 'Maroon 5', 'Sam Smith', 'Dua Lipa'],\n",
    "                      'streams': ['155633', '134756', '130898', '130798', '125472']\n",
    "                     }\n",
    "    \n",
    "    st.table(dataset_sample)\n",
    "    \n",
    "    st.markdown('<b>Data Dimensions:</b> Rows: 541909 Columns: 8', unsafe_allow_html=True)\n",
    "    st.markdown('<b>Data Description:</b>', unsafe_allow_html=True)\n",
    "    \n",
    "    data_details = {\n",
    "        'columns': ['date', 'position', 'track_id', 'track_name', 'artist', 'streams'],\n",
    "        'Description': ['Current Date of the Chart', 'Place in the Chart', 'Unique Identifier for the Song', 'Song Name', 'Name of the Singer', 'Total Number of Streams'],\n",
    "        'Data Types': ['int64', 'object', 'object', 'object', 'object', 'int64']\n",
    "    }\n",
    "        \n",
    "    st.table(pd.DataFrame(data_details).set_index('columns'))"
   ]
  },
  {
   "cell_type": "code",
   "execution_count": null,
   "metadata": {},
   "outputs": [],
   "source": [
    "elif add_selectbox == 'Data Cleaning':\n",
    "    st.subheader('Data Cleaning')\n",
    "    st.write('-----------------------------')"
   ]
  },
  {
   "cell_type": "code",
   "execution_count": null,
   "metadata": {},
   "outputs": [],
   "source": [
    "elif add_selectbox == 'Exploratory Data Analysis':\n",
    "    st.subheader('Exploratory Data Analysis')\n",
    "    st.write('-----------------------------')"
   ]
  },
  {
   "cell_type": "code",
   "execution_count": null,
   "metadata": {},
   "outputs": [],
   "source": [
    "elif add_selectbox == 'Client Track Classification':\n",
    "    st.subheader('Client Track Classification')\n",
    "    st.write('-----------------------------')"
   ]
  },
  {
   "cell_type": "code",
   "execution_count": null,
   "metadata": {},
   "outputs": [],
   "source": [
    "elif add_selectbox == 'Recommender Engine':\n",
    "    st.subheader('Recommender Engine')\n",
    "    st.write('-----------------------------')\n",
    "    user_input = st.text_input(\"Song Title\")\n",
    "    st.write(user_input)"
   ]
  },
  {
   "cell_type": "code",
   "execution_count": null,
   "metadata": {},
   "outputs": [],
   "source": [
    "elif add_selectbox == 'Possible Business Strategies':\n",
    "    st.subheader('Possible Business Strategies')\n",
    "    st.write('-----------------------------')"
   ]
  },
  {
   "cell_type": "code",
   "execution_count": null,
   "metadata": {},
   "outputs": [],
   "source": [
    "else:\n",
    "    st.subheader('Contributors')\n",
    "    st.write('-----------------------------')\n",
    "    st.markdown(\"<ul>\"\\\n",
    "                \"<li>Danilo Jr. Gubaton</li>\"\\\n",
    "                \"<li>Fili Emerson Chua</li>\"\n",
    "                \"<li>John Barrion</li>\"\\\n",
    "                \"<li>Justine Brian Santoalla </li>\"\\\n",
    "                \"<li>Rhey Ann Magcalas</li>\"\\\n",
    "                 \"</ul>\", unsafe_allow_html=True)"
   ]
  }
 ],
 "metadata": {
  "kernelspec": {
   "display_name": "Python 3",
   "language": "python",
   "name": "python3"
  },
  "language_info": {
   "codemirror_mode": {
    "name": "ipython",
    "version": 3
   },
   "file_extension": ".py",
   "mimetype": "text/x-python",
   "name": "python",
   "nbconvert_exporter": "python",
   "pygments_lexer": "ipython3",
   "version": "3.8.3"
  }
 },
 "nbformat": 4,
 "nbformat_minor": 4
}
